{
 "cells": [
  {
   "cell_type": "code",
   "execution_count": 36,
   "metadata": {},
   "outputs": [],
   "source": [
    "import numpy as np\n",
    "import pandas as pd\n",
    "import re\n",
    "import torch\n",
    "import torchtext\n",
    "from torch import nn, optim\n",
    "from sklearn.model_selection import train_test_split, KFold"
   ]
  },
  {
   "cell_type": "code",
   "execution_count": 77,
   "metadata": {},
   "outputs": [],
   "source": [
    "dat = pd.read_csv('cmu_ipa.csv', delimiter=',', header=None, names=['word', 'ipa'])\n",
    "dat.word = dat.word.apply(lambda x: re.sub('\\(1\\)|\\.', '', str(x)).lower())\n",
    "dat.ipa = dat.ipa.apply(lambda x: re.sub('\\s+', '', str(x)))"
   ]
  },
  {
   "cell_type": "code",
   "execution_count": 78,
   "metadata": {},
   "outputs": [
    {
     "data": {
      "text/html": [
       "<div>\n",
       "<style scoped>\n",
       "    .dataframe tbody tr th:only-of-type {\n",
       "        vertical-align: middle;\n",
       "    }\n",
       "\n",
       "    .dataframe tbody tr th {\n",
       "        vertical-align: top;\n",
       "    }\n",
       "\n",
       "    .dataframe thead th {\n",
       "        text-align: right;\n",
       "    }\n",
       "</style>\n",
       "<table border=\"1\" class=\"dataframe\">\n",
       "  <thead>\n",
       "    <tr style=\"text-align: right;\">\n",
       "      <th></th>\n",
       "      <th>word</th>\n",
       "      <th>ipa</th>\n",
       "    </tr>\n",
       "  </thead>\n",
       "  <tbody>\n",
       "    <tr>\n",
       "      <td>0</td>\n",
       "      <td>a</td>\n",
       "      <td>ʌ</td>\n",
       "    </tr>\n",
       "    <tr>\n",
       "      <td>1</td>\n",
       "      <td>a</td>\n",
       "      <td>ejˈ</td>\n",
       "    </tr>\n",
       "    <tr>\n",
       "      <td>2</td>\n",
       "      <td>a's</td>\n",
       "      <td>ejˈz</td>\n",
       "    </tr>\n",
       "    <tr>\n",
       "      <td>3</td>\n",
       "      <td>a</td>\n",
       "      <td>ejˈ</td>\n",
       "    </tr>\n",
       "    <tr>\n",
       "      <td>4</td>\n",
       "      <td>a's</td>\n",
       "      <td>ejˈz</td>\n",
       "    </tr>\n",
       "    <tr>\n",
       "      <td>...</td>\n",
       "      <td>...</td>\n",
       "      <td>...</td>\n",
       "    </tr>\n",
       "    <tr>\n",
       "      <td>133285</td>\n",
       "      <td>zyuganov</td>\n",
       "      <td>zjuˈgɑnɑv</td>\n",
       "    </tr>\n",
       "    <tr>\n",
       "      <td>133286</td>\n",
       "      <td>zyuganov</td>\n",
       "      <td>zuˈgɑnɑv</td>\n",
       "    </tr>\n",
       "    <tr>\n",
       "      <td>133287</td>\n",
       "      <td>zyuganov's</td>\n",
       "      <td>zjuˈgɑnɑvz</td>\n",
       "    </tr>\n",
       "    <tr>\n",
       "      <td>133288</td>\n",
       "      <td>zyuganov's</td>\n",
       "      <td>zuˈgɑnɑvz</td>\n",
       "    </tr>\n",
       "    <tr>\n",
       "      <td>133289</td>\n",
       "      <td>zywicki</td>\n",
       "      <td>zɪwɪˈki</td>\n",
       "    </tr>\n",
       "  </tbody>\n",
       "</table>\n",
       "<p>133290 rows × 2 columns</p>\n",
       "</div>"
      ],
      "text/plain": [
       "              word         ipa\n",
       "0                a           ʌ\n",
       "1                a         ejˈ\n",
       "2              a's        ejˈz\n",
       "3                a         ejˈ\n",
       "4              a's        ejˈz\n",
       "...            ...         ...\n",
       "133285    zyuganov   zjuˈgɑnɑv\n",
       "133286    zyuganov    zuˈgɑnɑv\n",
       "133287  zyuganov's  zjuˈgɑnɑvz\n",
       "133288  zyuganov's   zuˈgɑnɑvz\n",
       "133289     zywicki     zɪwɪˈki\n",
       "\n",
       "[133290 rows x 2 columns]"
      ]
     },
     "execution_count": 78,
     "metadata": {},
     "output_type": "execute_result"
    }
   ],
   "source": [
    "dat"
   ]
  },
  {
   "cell_type": "code",
   "execution_count": 37,
   "metadata": {},
   "outputs": [],
   "source": [
    "kf = KFold(n_splits=5)\n"
   ]
  },
  {
   "cell_type": "code",
   "execution_count": 38,
   "metadata": {},
   "outputs": [
    {
     "data": {
      "text/plain": [
       "5"
      ]
     },
     "execution_count": 38,
     "metadata": {},
     "output_type": "execute_result"
    }
   ],
   "source": [
    "for train_idx, test_idx in kf.split(dat):\n",
    "    train_dat, test_dat = dat.loc[train_idx], dat.loc[test_idx]\n",
    "    x_train, y_train = train_dat.word, train_dat.ipa\n",
    "    x_test, y_test = test_dat.word, test_dat.ipa\n",
    "    "
   ]
  }
 ],
 "metadata": {
  "kernelspec": {
   "display_name": "Python 3",
   "language": "python",
   "name": "python3"
  },
  "language_info": {
   "codemirror_mode": {
    "name": "ipython",
    "version": 3
   },
   "file_extension": ".py",
   "mimetype": "text/x-python",
   "name": "python",
   "nbconvert_exporter": "python",
   "pygments_lexer": "ipython3",
   "version": "3.7.4"
  }
 },
 "nbformat": 4,
 "nbformat_minor": 2
}
